{
  "nbformat": 4,
  "nbformat_minor": 0,
  "metadata": {
    "colab": {
      "provenance": [],
      "gpuType": "T4"
    },
    "kernelspec": {
      "name": "python3",
      "display_name": "Python 3"
    },
    "language_info": {
      "name": "python"
    },
    "accelerator": "GPU"
  },
  "cells": [
    {
      "cell_type": "markdown",
      "source": [
        "# Binary Image Classification using Simple CNN on Pneumonia X-ray Dataset"
      ],
      "metadata": {
        "id": "jZMWYFdowkpS"
      }
    },
    {
      "cell_type": "code",
      "execution_count": null,
      "metadata": {
        "id": "7c6fwiuRudHV"
      },
      "outputs": [],
      "source": [
        "!pip install torch torchvision scikit-learn --quiet"
      ]
    },
    {
      "cell_type": "markdown",
      "source": [
        "### Download & Use Chest X-ray"
      ],
      "metadata": {
        "id": "6eBzvF_xBm-6"
      }
    },
    {
      "cell_type": "code",
      "source": [
        "from google.colab import files\n",
        "files.upload()  # Upload kaggle.json"
      ],
      "metadata": {
        "id": "A0qkF8_4BqEq"
      },
      "execution_count": null,
      "outputs": []
    },
    {
      "cell_type": "code",
      "source": [
        "!mkdir -p ~/.kaggle\n",
        "!mv kaggle.json ~/.kaggle/\n",
        "!chmod 600 ~/.kaggle/kaggle.json"
      ],
      "metadata": {
        "id": "hJKv8vpCB0FU"
      },
      "execution_count": 3,
      "outputs": []
    },
    {
      "cell_type": "code",
      "source": [
        "!kaggle datasets download -d paultimothymooney/chest-xray-pneumonia"
      ],
      "metadata": {
        "colab": {
          "base_uri": "https://localhost:8080/"
        },
        "id": "eoMDK3xuB1nV",
        "outputId": "fd6c0784-1bae-4f7d-cded-dad655ba5e6f"
      },
      "execution_count": 4,
      "outputs": [
        {
          "output_type": "stream",
          "name": "stdout",
          "text": [
            "Dataset URL: https://www.kaggle.com/datasets/paultimothymooney/chest-xray-pneumonia\n",
            "License(s): other\n",
            "Downloading chest-xray-pneumonia.zip to /content\n",
            " 99% 2.28G/2.29G [00:19<00:00, 39.6MB/s]\n",
            "100% 2.29G/2.29G [00:19<00:00, 130MB/s] \n"
          ]
        }
      ]
    },
    {
      "cell_type": "code",
      "source": [
        "!unzip chest-xray-pneumonia.zip"
      ],
      "metadata": {
        "id": "HzUt3QFEC9rk"
      },
      "execution_count": null,
      "outputs": []
    },
    {
      "cell_type": "markdown",
      "source": [
        "### Import Required Libraries\n",
        "- Import essential modules from PyTorch and torchvision.\n",
        "- Use scikit-learn for evaluation metrics and matplotlib/seaborn for visualizations.\n"
      ],
      "metadata": {
        "id": "7DgvIqpTwncv"
      }
    },
    {
      "cell_type": "code",
      "source": [
        "import os\n",
        "import numpy as np\n",
        "import torch\n",
        "import torch.nn as nn\n",
        "import torch.optim as optim\n",
        "from torchvision import datasets, transforms, models\n",
        "from torch.utils.data import DataLoader, WeightedRandomSampler\n",
        "from sklearn.metrics import confusion_matrix, classification_report\n",
        "import matplotlib.pyplot as plt\n",
        "import seaborn as sns"
      ],
      "metadata": {
        "id": "dPzL6_bAukgQ"
      },
      "execution_count": 22,
      "outputs": []
    },
    {
      "cell_type": "markdown",
      "source": [
        "### Set Device\n",
        "- Set the computation device to GPU (if available) or CPU."
      ],
      "metadata": {
        "id": "SkGEdqHRJKbx"
      }
    },
    {
      "cell_type": "code",
      "source": [
        "device = torch.device(\"cuda\" if torch.cuda.is_available() else \"cpu\")"
      ],
      "metadata": {
        "id": "IJ_DXImdH2Zb"
      },
      "execution_count": 23,
      "outputs": []
    },
    {
      "cell_type": "markdown",
      "source": [
        "### Define Transformations with Augmentation\n",
        "- Resize all images to a uniform size (e.g., 150x150).\n",
        "- Apply augmentations like `RandomHorizontalFlip`, `RandomRotation` only on training set to generalize better.\n",
        "- Apply only resizing and tensor conversion for validation and test sets."
      ],
      "metadata": {
        "id": "YRWvlk9oJMCg"
      }
    },
    {
      "cell_type": "code",
      "source": [
        "train_transform = transforms.Compose([\n",
        "    transforms.Resize((150, 150)),\n",
        "    transforms.RandomHorizontalFlip(),\n",
        "    transforms.RandomRotation(10),\n",
        "    transforms.ToTensor()\n",
        "])\n",
        "\n",
        "val_test_transform = transforms.Compose([\n",
        "    transforms.Resize((150, 150)),\n",
        "    transforms.ToTensor()\n",
        "])"
      ],
      "metadata": {
        "id": "-EOndzrZH4sX"
      },
      "execution_count": 24,
      "outputs": []
    },
    {
      "cell_type": "markdown",
      "source": [
        "### Load Datasets\n",
        "- Use `ImageFolder` to automatically assign labels based on folder structure.\n",
        "- Load train, validation, and test datasets from directories."
      ],
      "metadata": {
        "id": "Cb6WpeTCEv5j"
      }
    },
    {
      "cell_type": "code",
      "source": [
        "train_dir = \"chest_xray/chest_xray/train\"\n",
        "val_dir  = \"chest_xray/chest_xray/val\"\n",
        "test_dir  = \"chest_xray/chest_xray/test\""
      ],
      "metadata": {
        "id": "dOyTc0PDDYkB"
      },
      "execution_count": 25,
      "outputs": []
    },
    {
      "cell_type": "code",
      "source": [
        "train_dataset = datasets.ImageFolder(train_dir, transform=train_transform)\n",
        "val_dataset = datasets.ImageFolder(val_dir, transform=val_test_transform)\n",
        "test_dataset = datasets.ImageFolder(test_dir, transform=val_test_transform)"
      ],
      "metadata": {
        "id": "8YDhsofIDaCn"
      },
      "execution_count": 26,
      "outputs": []
    },
    {
      "cell_type": "markdown",
      "source": [
        "### Handle Class Imbalance using Weighted Sampling\n",
        "- Compute the inverse frequency for each class.\n",
        "- Use `WeightedRandomSampler` to ensure balanced mini-batches during training despite imbalance.\n"
      ],
      "metadata": {
        "id": "41o2m_YdJSd8"
      }
    },
    {
      "cell_type": "code",
      "source": [
        "class_counts = np.bincount([label for _, label in train_dataset])\n",
        "class_weights = 1. / class_counts\n",
        "sample_weights = [class_weights[label] for _, label in train_dataset]\n",
        "sampler = WeightedRandomSampler(sample_weights, len(sample_weights))"
      ],
      "metadata": {
        "id": "0xAtL9eKIGns"
      },
      "execution_count": 27,
      "outputs": []
    },
    {
      "cell_type": "code",
      "source": [
        "class_counts, class_weights"
      ],
      "metadata": {
        "colab": {
          "base_uri": "https://localhost:8080/"
        },
        "id": "elOnoIQvIQAc",
        "outputId": "fc9c2749-3054-41de-c851-7c48029ea4d9"
      },
      "execution_count": 37,
      "outputs": [
        {
          "output_type": "execute_result",
          "data": {
            "text/plain": [
              "(array([1341, 3875]), array([0.00074571, 0.00025806]))"
            ]
          },
          "metadata": {},
          "execution_count": 37
        }
      ]
    },
    {
      "cell_type": "markdown",
      "source": [
        "### Create DataLoaders\n",
        "- Define `train_loader`, `val_loader`, and `test_loader` with appropriate batching and sampling/shuffling strategies.\n"
      ],
      "metadata": {
        "id": "C7mFwIFKJUfd"
      }
    },
    {
      "cell_type": "code",
      "source": [
        "train_loader = DataLoader(train_dataset, batch_size=32, sampler=sampler)\n",
        "val_loader = DataLoader(val_dataset, batch_size=32, shuffle=False)\n",
        "test_loader = DataLoader(test_dataset, batch_size=32, shuffle=False)"
      ],
      "metadata": {
        "id": "AlmOZT_RIedS"
      },
      "execution_count": 29,
      "outputs": []
    },
    {
      "cell_type": "markdown",
      "source": [
        "### Define the Simple CNN Architecture\n",
        "- 3 Convolutional layers: each followed by ReLU and MaxPooling.\n",
        "- Flatten layer followed by a fully connected layer with dropout.\n",
        "- Final layer uses Sigmoid for binary classification output."
      ],
      "metadata": {
        "id": "yJ_wWdBTJWYa"
      }
    },
    {
      "cell_type": "code",
      "source": [
        "class SimpleCNN(nn.Module):\n",
        "    def __init__(self):\n",
        "        super(SimpleCNN, self).__init__()\n",
        "        self.net = nn.Sequential(\n",
        "            nn.Conv2d(3, 32, kernel_size=3, padding=1),\n",
        "            nn.ReLU(),\n",
        "            nn.MaxPool2d(2),\n",
        "\n",
        "            nn.Conv2d(32, 64, kernel_size=3, padding=1),\n",
        "            nn.ReLU(),\n",
        "            nn.MaxPool2d(2),\n",
        "\n",
        "            nn.Conv2d(64, 128, kernel_size=3, padding=1),\n",
        "            nn.ReLU(),\n",
        "            nn.MaxPool2d(2),\n",
        "\n",
        "            nn.Flatten(),\n",
        "            nn.Linear(128 * 18 * 18, 128),\n",
        "            nn.ReLU(),\n",
        "            nn.Dropout(0.5),\n",
        "            nn.Linear(128, 1),\n",
        "            nn.Sigmoid()\n",
        "        )\n",
        "\n",
        "    def forward(self, x):\n",
        "        return self.net(x)"
      ],
      "metadata": {
        "id": "2P7chuMQIfkD"
      },
      "execution_count": 30,
      "outputs": []
    },
    {
      "cell_type": "markdown",
      "source": [
        "### Compile the Model\n",
        "- Use `BCELoss` for binary cross entropy.\n",
        "- Use `Adam` optimizer for adaptive learning rate."
      ],
      "metadata": {
        "id": "EbYLB5txJfjh"
      }
    },
    {
      "cell_type": "code",
      "source": [
        "model = SimpleCNN().to(device)"
      ],
      "metadata": {
        "id": "qPZbPnsyIhla"
      },
      "execution_count": 31,
      "outputs": []
    },
    {
      "cell_type": "code",
      "source": [
        "criterion = nn.BCELoss()\n",
        "optimizer = optim.Adam(model.parameters(), lr=0.001)"
      ],
      "metadata": {
        "id": "65IejG7FIjCT"
      },
      "execution_count": 32,
      "outputs": []
    },
    {
      "cell_type": "markdown",
      "source": [
        "### Training Loop\n",
        "- Train for multiple epochs.\n",
        "- In each epoch:\n",
        "  - Zero gradients\n",
        "  - Forward pass\n",
        "  - Backward pass and optimization\n",
        "  - Accumulate running loss\n",
        "- Print average training loss per epoch."
      ],
      "metadata": {
        "id": "cfAgD3V3JhLu"
      }
    },
    {
      "cell_type": "code",
      "source": [
        "epochs = 5\n",
        "for epoch in range(epochs):\n",
        "    model.train()\n",
        "    running_loss = 0.0\n",
        "    for images, labels in train_loader:\n",
        "        images, labels = images.to(device), labels.float().unsqueeze(1).to(device)\n",
        "\n",
        "        optimizer.zero_grad()\n",
        "        outputs = model(images)\n",
        "        loss = criterion(outputs, labels)\n",
        "        loss.backward()\n",
        "        optimizer.step()\n",
        "        running_loss += loss.item()\n",
        "\n",
        "    print(f\"Epoch {epoch+1}/{epochs} - Loss: {running_loss/len(train_loader):.4f}\")"
      ],
      "metadata": {
        "colab": {
          "base_uri": "https://localhost:8080/"
        },
        "id": "7FePdCqLIkaM",
        "outputId": "2b369dff-0065-4575-f43d-24e4da680d9f"
      },
      "execution_count": 33,
      "outputs": [
        {
          "output_type": "stream",
          "name": "stdout",
          "text": [
            "Epoch 1/5 - Loss: 0.3648\n",
            "Epoch 2/5 - Loss: 0.1815\n",
            "Epoch 3/5 - Loss: 0.1545\n",
            "Epoch 4/5 - Loss: 0.1456\n",
            "Epoch 5/5 - Loss: 0.1135\n"
          ]
        }
      ]
    },
    {
      "cell_type": "markdown",
      "source": [
        "### Evaluate on the Test Set\n",
        "- Switch model to eval mode.\n",
        "- Disable gradient tracking for inference.\n",
        "- Collect predictions and actual labels for the test set."
      ],
      "metadata": {
        "id": "IHw73A5xJjVs"
      }
    },
    {
      "cell_type": "code",
      "source": [
        "model.eval()\n",
        "all_preds = []\n",
        "all_labels = []\n",
        "\n",
        "with torch.no_grad():\n",
        "    for images, labels in test_loader:\n",
        "        images = images.to(device)\n",
        "        outputs = model(images)\n",
        "        preds = (outputs.cpu().numpy() > 0.5).astype(int)\n",
        "        all_preds.extend(preds.flatten())\n",
        "        all_labels.extend(labels.numpy())\n"
      ],
      "metadata": {
        "id": "RTyVuvZjI2cI"
      },
      "execution_count": 34,
      "outputs": []
    },
    {
      "cell_type": "markdown",
      "source": [
        "### Confusion Matrix\n",
        "- Compute and visualize the confusion matrix to analyze true positives, false positives, etc.\n",
        "- Use seaborn’s heatmap for better visualization."
      ],
      "metadata": {
        "id": "EOvQY7oiJk6D"
      }
    },
    {
      "cell_type": "code",
      "source": [
        "cm = confusion_matrix(all_labels, all_preds)\n",
        "sns.heatmap(cm, annot=True, fmt=\"d\", cmap=\"Blues\", xticklabels=test_dataset.classes, yticklabels=test_dataset.classes)\n",
        "plt.xlabel(\"Predicted\")\n",
        "plt.ylabel(\"Actual\")\n",
        "plt.title(\"Confusion Matrix\")\n",
        "plt.show()"
      ],
      "metadata": {
        "colab": {
          "base_uri": "https://localhost:8080/",
          "height": 472
        },
        "id": "9nMGQJBuI4h8",
        "outputId": "938af620-9314-49c4-a690-5b5e567d9457"
      },
      "execution_count": 35,
      "outputs": [
        {
          "output_type": "display_data",
          "data": {
            "text/plain": [
              "<Figure size 640x480 with 2 Axes>"
            ],
            "image/png": "[encoded data removed]"
          },
          "metadata": {}
        }
      ]
    },
    {
      "cell_type": "markdown",
      "source": [
        "### Classification Report\n",
        "- Generate precision, recall, F1-score, and support for both classes.\n",
        "- Provides deeper insights into model performance beyond accuracy."
      ],
      "metadata": {
        "id": "2am-yc2tJmH7"
      }
    },
    {
      "cell_type": "code",
      "source": [
        "print(classification_report(all_labels, all_preds, target_names=test_dataset.classes))"
      ],
      "metadata": {
        "colab": {
          "base_uri": "https://localhost:8080/"
        },
        "id": "r1qWwnB6I6li",
        "outputId": "1d9a3e5e-e19b-433b-dd98-92713e90838d"
      },
      "execution_count": 36,
      "outputs": [
        {
          "output_type": "stream",
          "name": "stdout",
          "text": [
            "              precision    recall  f1-score   support\n",
            "\n",
            "      NORMAL       0.93      0.43      0.58       234\n",
            "   PNEUMONIA       0.74      0.98      0.84       390\n",
            "\n",
            "    accuracy                           0.77       624\n",
            "   macro avg       0.83      0.70      0.71       624\n",
            "weighted avg       0.81      0.77      0.75       624\n",
            "\n"
          ]
        }
      ]
    }
  ]
}