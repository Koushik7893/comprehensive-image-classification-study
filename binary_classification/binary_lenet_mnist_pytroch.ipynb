{
  "cells": [
    {
      "cell_type": "markdown",
      "metadata": {
        "id": "jZMWYFdowkpS"
      },
      "source": [
        "# Binary Image Classification using LeNet-5 on MNIST (Even vs Odd)"
      ]
    },
    {
      "cell_type": "code",
      "execution_count": null,
      "metadata": {
        "colab": {
          "base_uri": "https://localhost:8080/"
        },
        "id": "7c6fwiuRudHV",
        "outputId": "8adf4c98-ae30-4cda-9d25-a4838506299c"
      },
      "outputs": [],
      "source": [
        "!pip install torch torchvision matplotlib scikit-learn seaborn --quiet"
      ]
    },
    {
      "cell_type": "markdown",
      "metadata": {
        "id": "7DgvIqpTwncv"
      },
      "source": [
        "### Import Required Libraries\n",
        "- PyTorch core and neural network modules are imported.\n",
        "- Torchvision for MNIST dataset and transformations.\n",
        "- Scikit-learn for confusion matrix and classification report.\n",
        "- Matplotlib/Seaborn for visualization."
      ]
    },
    {
      "cell_type": "code",
      "execution_count": 2,
      "metadata": {
        "id": "dPzL6_bAukgQ"
      },
      "outputs": [],
      "source": [
        "import torch\n",
        "import torch.nn as nn\n",
        "import torch.nn.functional as F\n",
        "import torchvision\n",
        "from torchvision import transforms\n",
        "from torch.utils.data import DataLoader, Dataset\n",
        "from sklearn.metrics import confusion_matrix, classification_report\n",
        "import matplotlib.pyplot as plt\n",
        "import seaborn as sns\n",
        "import numpy as np"
      ]
    },
    {
      "cell_type": "markdown",
      "metadata": {
        "id": "HJdaqhzT0uqG"
      },
      "source": [
        "### Define Transformations\n",
        "- Normalize MNIST pixel values using `ToTensor()` which scales them to [0,1].\n"
      ]
    },
    {
      "cell_type": "code",
      "execution_count": 3,
      "metadata": {
        "id": "675DFc-jzpTt"
      },
      "outputs": [],
      "source": [
        "transform = transforms.Compose([\n",
        "    transforms.ToTensor(),\n",
        "])"
      ]
    },
    {
      "cell_type": "markdown",
      "metadata": {
        "id": "e-0xUWU10wy_"
      },
      "source": [
        "### Load and Modify MNIST Dataset (Even vs Odd)\n",
        "- A custom dataset wrapper converts 10-class MNIST into binary classification:\n",
        "- Even digits (0, 2, 4, 6, 8) → 0\n",
        "- Odd digits (1, 3, 5, 7, 9) → 1\n"
      ]
    },
    {
      "cell_type": "code",
      "execution_count": 4,
      "metadata": {
        "id": "MPKDvAFVzq5K"
      },
      "outputs": [],
      "source": [
        "class BinaryMNIST(Dataset):\n",
        "    def __init__(self, train=True):\n",
        "        self.data = torchvision.datasets.MNIST(root=\"./data\", train=train, download=True, transform=transform)\n",
        "        self.binary_labels = torch.tensor([(label % 2 != 0) for label in self.data.targets], dtype=torch.float32)\n",
        "\n",
        "    def __len__(self):\n",
        "        return len(self.data)\n",
        "\n",
        "    def __getitem__(self, idx):\n",
        "        image, _ = self.data[idx]\n",
        "        label = self.binary_labels[idx]\n",
        "        return image, label"
      ]
    },
    {
      "cell_type": "code",
      "execution_count": null,
      "metadata": {
        "id": "8iZUdY_LzsrT"
      },
      "outputs": [],
      "source": [
        "train_dataset = BinaryMNIST(train=True)\n",
        "test_dataset = BinaryMNIST(train=False)"
      ]
    },
    {
      "cell_type": "markdown",
      "metadata": {
        "id": "xxwlNWGI0zDN"
      },
      "source": [
        "### Create DataLoaders\n",
        "- Data is loaded in batches for efficient training and testing using DataLoader.\n",
        "- Shuffling is applied to training data to ensure better generalization."
      ]
    },
    {
      "cell_type": "code",
      "execution_count": 6,
      "metadata": {
        "id": "R40CAGbDztt9"
      },
      "outputs": [],
      "source": [
        "train_loader = DataLoader(train_dataset, batch_size=128, shuffle=True)\n",
        "test_loader = DataLoader(test_dataset, batch_size=128, shuffle=False)"
      ]
    },
    {
      "cell_type": "markdown",
      "metadata": {
        "id": "E8ThA1-h017w"
      },
      "source": [
        "### Define the LeNet-5 Architecture\n",
        "- LeNet-5 consists of:\n",
        "- Conv1: 6 filters, 5x5 kernel, padding=2 → ReLU → AvgPool\n",
        "- Conv2: 16 filters, 5x5 kernel → ReLU → AvgPool\n",
        "- Flatten → Fully Connected: 120 → 84 → 1 output neuron\n",
        "- Sigmoid activation for binary classification"
      ]
    },
    {
      "cell_type": "code",
      "execution_count": 7,
      "metadata": {
        "id": "5zYhyrUSzu3H"
      },
      "outputs": [],
      "source": [
        "class LeNet5(nn.Module):\n",
        "    def __init__(self):\n",
        "        super(LeNet5, self).__init__()\n",
        "        self.conv1 = nn.Conv2d(1, 6, kernel_size=5, padding=2)\n",
        "        self.pool1 = nn.AvgPool2d(2)\n",
        "        self.conv2 = nn.Conv2d(6, 16, kernel_size=5)\n",
        "        self.pool2 = nn.AvgPool2d(2)\n",
        "        self.fc1 = nn.Linear(16 * 5 * 5, 120)\n",
        "        self.fc2 = nn.Linear(120, 84)\n",
        "        self.fc3 = nn.Linear(84, 1)\n",
        "\n",
        "    def forward(self, x):\n",
        "        x = F.relu(self.conv1(x))\n",
        "        x = self.pool1(x)\n",
        "        x = F.relu(self.conv2(x))\n",
        "        x = self.pool2(x)\n",
        "        x = x.view(-1, 16 * 5 * 5)\n",
        "        x = F.relu(self.fc1(x))\n",
        "        x = F.relu(self.fc2(x))\n",
        "        x = torch.sigmoid(self.fc3(x))\n",
        "        return x"
      ]
    },
    {
      "cell_type": "markdown",
      "metadata": {
        "id": "T3FNKO1p04ZL"
      },
      "source": [
        "### Initialize Model, Loss, and Optimizer\n",
        "- Model is transferred to GPU (if available).\n",
        "- Binary Cross Entropy Loss is used since the output is a single sigmoid neuron.\n",
        "- Adam optimizer is used for faster convergence."
      ]
    },
    {
      "cell_type": "code",
      "execution_count": 8,
      "metadata": {
        "id": "QY-ImGSP0GhT"
      },
      "outputs": [],
      "source": [
        "device = torch.device(\"cuda\" if torch.cuda.is_available() else \"cpu\")\n",
        "model = LeNet5().to(device)\n",
        "criterion = nn.BCELoss()\n",
        "optimizer = torch.optim.Adam(model.parameters(), lr=0.001)"
      ]
    },
    {
      "cell_type": "markdown",
      "metadata": {
        "id": "AzUf0WaZ05-G"
      },
      "source": [
        "### Train the Model\n",
        "- For each epoch:\n",
        "  - Zero the gradients\n",
        "  - Perform forward pass\n",
        "  - Compute loss\n",
        "  - Backward pass and optimizer step\n",
        "- Average loss per epoch is printed."
      ]
    },
    {
      "cell_type": "code",
      "execution_count": 9,
      "metadata": {
        "colab": {
          "base_uri": "https://localhost:8080/"
        },
        "id": "CBQgnXWW0IRb",
        "outputId": "3d25ac99-2a79-4f37-9392-0982e9a8139a"
      },
      "outputs": [
        {
          "name": "stderr",
          "output_type": "stream",
          "text": []
        },
        {
          "name": "stdout",
          "output_type": "stream",
          "text": [
            "Epoch 1, Loss: 0.1777\n"
          ]
        },
        {
          "name": "stderr",
          "output_type": "stream",
          "text": []
        },
        {
          "name": "stdout",
          "output_type": "stream",
          "text": [
            "Epoch 2, Loss: 0.0652\n"
          ]
        },
        {
          "name": "stderr",
          "output_type": "stream",
          "text": []
        },
        {
          "name": "stdout",
          "output_type": "stream",
          "text": [
            "Epoch 3, Loss: 0.0452\n"
          ]
        },
        {
          "name": "stderr",
          "output_type": "stream",
          "text": []
        },
        {
          "name": "stdout",
          "output_type": "stream",
          "text": [
            "Epoch 4, Loss: 0.0363\n"
          ]
        },
        {
          "name": "stderr",
          "output_type": "stream",
          "text": []
        },
        {
          "name": "stdout",
          "output_type": "stream",
          "text": [
            "Epoch 5, Loss: 0.0306\n"
          ]
        },
        {
          "name": "stderr",
          "output_type": "stream",
          "text": []
        },
        {
          "name": "stdout",
          "output_type": "stream",
          "text": [
            "Epoch 6, Loss: 0.0252\n"
          ]
        },
        {
          "name": "stderr",
          "output_type": "stream",
          "text": []
        },
        {
          "name": "stdout",
          "output_type": "stream",
          "text": [
            "Epoch 7, Loss: 0.0221\n"
          ]
        },
        {
          "name": "stderr",
          "output_type": "stream",
          "text": []
        },
        {
          "name": "stdout",
          "output_type": "stream",
          "text": [
            "Epoch 8, Loss: 0.0188\n"
          ]
        },
        {
          "name": "stderr",
          "output_type": "stream",
          "text": []
        },
        {
          "name": "stdout",
          "output_type": "stream",
          "text": [
            "Epoch 9, Loss: 0.0160\n"
          ]
        },
        {
          "name": "stderr",
          "output_type": "stream",
          "text": [
            "                                                                       "
          ]
        },
        {
          "name": "stdout",
          "output_type": "stream",
          "text": [
            "Epoch 10, Loss: 0.0148\n"
          ]
        },
        {
          "name": "stderr",
          "output_type": "stream",
          "text": [
            "\r"
          ]
        }
      ],
      "source": [
        "from tqdm import tqdm\n",
        "\n",
        "for epoch in range(10):\n",
        "    model.train()\n",
        "    total_loss = 0\n",
        "    loop = tqdm(train_loader, desc=f\"Epoch {epoch+1}\", leave=False)\n",
        "    for images, labels in loop:\n",
        "        images, labels = images.to(device), labels.to(device).unsqueeze(1)\n",
        "        optimizer.zero_grad()\n",
        "        outputs = model(images)\n",
        "        loss = criterion(outputs, labels)\n",
        "        loss.backward()\n",
        "        optimizer.step()\n",
        "        total_loss += loss.item()\n",
        "\n",
        "        loop.set_postfix(loss=loss.item())\n",
        "\n",
        "    print(f\"Epoch {epoch+1}, Loss: {total_loss/len(train_loader):.4f}\")"
      ]
    },
    {
      "cell_type": "markdown",
      "metadata": {
        "id": "A2me6w5j078V"
      },
      "source": [
        "### Evaluate the Model\n",
        "- Model is set to eval mode to disable dropout/batch norm.\n",
        "- Predictions are thresholded at 0.5 to get binary output.\n",
        "- Actual and predicted labels are collected for metrics."
      ]
    },
    {
      "cell_type": "code",
      "execution_count": 10,
      "metadata": {
        "colab": {
          "base_uri": "https://localhost:8080/"
        },
        "id": "6fMi6tAC0VxH",
        "outputId": "7d540c9c-e54f-40e4-d57b-aed1276a487b"
      },
      "outputs": [
        {
          "name": "stderr",
          "output_type": "stream",
          "text": [
            "Evaluating: 100%|██████████| 79/79 [00:02<00:00, 37.18it/s]\n"
          ]
        }
      ],
      "source": [
        "model.eval()\n",
        "y_true = []\n",
        "y_pred = []\n",
        "with torch.no_grad():\n",
        "    for images, labels in tqdm(test_loader, desc=\"Evaluating\", leave=True):\n",
        "        images = images.to(device)\n",
        "        outputs = model(images)\n",
        "        preds = (outputs.cpu().numpy() > 0.5).astype(int)\n",
        "        y_pred.extend(preds.flatten())\n",
        "        y_true.extend(labels.numpy().flatten())"
      ]
    },
    {
      "cell_type": "markdown",
      "metadata": {
        "id": "6RbCzZfj0-aW"
      },
      "source": [
        "### Plot the Confusion Matrix\n",
        "- Displays the count of true vs. predicted labels in a heatmap."
      ]
    },
    {
      "cell_type": "code",
      "execution_count": 11,
      "metadata": {
        "colab": {
          "base_uri": "https://localhost:8080/",
          "height": 472
        },
        "id": "21RdDs_I0lMr",
        "outputId": "787876d7-257e-49e8-b2c1-47f9822e4d1f"
      },
      "outputs": [
        {
          "data": {
            "image/png": "[encoded data removed]",
            "text/plain": [
              "<Figure size 640x480 with 2 Axes>"
            ]
          },
          "metadata": {},
          "output_type": "display_data"
        }
      ],
      "source": [
        "cm = confusion_matrix(y_true, y_pred)\n",
        "sns.heatmap(cm, annot=True, fmt='d', cmap='Greens')\n",
        "plt.xlabel('Predicted')\n",
        "plt.ylabel('True')\n",
        "plt.title('Confusion Matrix')\n",
        "plt.show()"
      ]
    },
    {
      "cell_type": "markdown",
      "metadata": {
        "id": "D7I57PGP0_0v"
      },
      "source": [
        "### Generate the Classification Report\n",
        "- Prints precision, recall, F1-score, and support for both classes."
      ]
    },
    {
      "cell_type": "code",
      "execution_count": 12,
      "metadata": {
        "colab": {
          "base_uri": "https://localhost:8080/"
        },
        "id": "ZTxEGTVQ0nCq",
        "outputId": "0640c27c-4c3b-4f23-ab06-0d200c22c558"
      },
      "outputs": [
        {
          "name": "stdout",
          "output_type": "stream",
          "text": [
            "              precision    recall  f1-score   support\n",
            "\n",
            "         0.0       0.99      1.00      0.99      4926\n",
            "         1.0       1.00      0.99      0.99      5074\n",
            "\n",
            "    accuracy                           0.99     10000\n",
            "   macro avg       0.99      0.99      0.99     10000\n",
            "weighted avg       0.99      0.99      0.99     10000\n",
            "\n"
          ]
        }
      ],
      "source": [
        "print(classification_report(y_true, y_pred))"
      ]
    }
  ],
  "metadata": {
    "colab": {
      "provenance": []
    },
    "kernelspec": {
      "display_name": "Python 3",
      "name": "python3"
    },
    "language_info": {
      "name": "python"
    }
  },
  "nbformat": 4,
  "nbformat_minor": 0
}
