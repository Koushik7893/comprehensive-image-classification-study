{
  "nbformat": 4,
  "nbformat_minor": 0,
  "metadata": {
    "colab": {
      "provenance": [],
      "gpuType": "T4"
    },
    "kernelspec": {
      "name": "python3",
      "display_name": "Python 3"
    },
    "language_info": {
      "name": "python"
    },
    "accelerator": "GPU"
  },
  "cells": [
    {
      "cell_type": "markdown",
      "source": [
        "# Binary Image Classification using Simple CNN on Pneumonia X-ray Dataset"
      ],
      "metadata": {
        "id": "jZMWYFdowkpS"
      }
    },
    {
      "cell_type": "code",
      "execution_count": 1,
      "metadata": {
        "id": "7c6fwiuRudHV"
      },
      "outputs": [],
      "source": [
        "!pip install tensorflow scikit-learn --quiet"
      ]
    },
    {
      "cell_type": "markdown",
      "source": [
        "### Download & Use Chest X-ray"
      ],
      "metadata": {
        "id": "6eBzvF_xBm-6"
      }
    },
    {
      "cell_type": "code",
      "source": [
        "from google.colab import files\n",
        "files.upload()  # Upload kaggle.json"
      ],
      "metadata": {
        "id": "A0qkF8_4BqEq"
      },
      "execution_count": null,
      "outputs": []
    },
    {
      "cell_type": "code",
      "source": [
        "!mkdir -p ~/.kaggle\n",
        "!mv kaggle.json ~/.kaggle/\n",
        "!chmod 600 ~/.kaggle/kaggle.json"
      ],
      "metadata": {
        "id": "hJKv8vpCB0FU"
      },
      "execution_count": 3,
      "outputs": []
    },
    {
      "cell_type": "code",
      "source": [
        "!kaggle datasets download -d paultimothymooney/chest-xray-pneumonia"
      ],
      "metadata": {
        "colab": {
          "base_uri": "https://localhost:8080/"
        },
        "id": "eoMDK3xuB1nV",
        "outputId": "fd6c0784-1bae-4f7d-cded-dad655ba5e6f"
      },
      "execution_count": 4,
      "outputs": [
        {
          "output_type": "stream",
          "name": "stdout",
          "text": [
            "Dataset URL: https://www.kaggle.com/datasets/paultimothymooney/chest-xray-pneumonia\n",
            "License(s): other\n",
            "Downloading chest-xray-pneumonia.zip to /content\n",
            " 99% 2.28G/2.29G [00:19<00:00, 39.6MB/s]\n",
            "100% 2.29G/2.29G [00:19<00:00, 130MB/s] \n"
          ]
        }
      ]
    },
    {
      "cell_type": "code",
      "source": [
        "!unzip chest-xray-pneumonia.zip"
      ],
      "metadata": {
        "id": "HzUt3QFEC9rk"
      },
      "execution_count": null,
      "outputs": []
    },
    {
      "cell_type": "markdown",
      "source": [
        "### Import Required Libraries\n",
        "- TensorFlow/Keras for building and training the CNN\n",
        "- ImageDataGenerator for loading and augmenting image data\n",
        "- Scikit-learn for handling class imbalance and evaluation metrics\n",
        "- Matplotlib/Seaborn for visualizing the confusion matrix"
      ],
      "metadata": {
        "id": "7DgvIqpTwncv"
      }
    },
    {
      "cell_type": "code",
      "source": [
        "import os\n",
        "import numpy as np\n",
        "import tensorflow as tf\n",
        "from tensorflow.keras.preprocessing.image import ImageDataGenerator\n",
        "from tensorflow.keras.models import Sequential\n",
        "from tensorflow.keras.layers import Conv2D, MaxPooling2D, Flatten, Dense, Dropout\n",
        "from sklearn.utils.class_weight import compute_class_weight\n",
        "from sklearn.metrics import confusion_matrix, classification_report\n",
        "import matplotlib.pyplot as plt\n",
        "import seaborn as sns"
      ],
      "metadata": {
        "id": "dPzL6_bAukgQ"
      },
      "execution_count": 6,
      "outputs": []
    },
    {
      "cell_type": "markdown",
      "source": [
        "### Set Dataset Paths\n",
        "- Set the paths for train, validation, and test directories of the Chest X-ray dataset.\n"
      ],
      "metadata": {
        "id": "Cb6WpeTCEv5j"
      }
    },
    {
      "cell_type": "code",
      "source": [
        "train_path = \"chest_xray/chest_xray/train\"\n",
        "val_path   = \"chest_xray/chest_xray/val\"\n",
        "test_path  = \"chest_xray/chest_xray/test\""
      ],
      "metadata": {
        "id": "dOyTc0PDDYkB"
      },
      "execution_count": 7,
      "outputs": []
    },
    {
      "cell_type": "markdown",
      "source": [
        "### Image Dimensions and Parameters\n",
        "- Set image size to resize all images uniformly (e.g., 150x150)\n",
        "- Define batch size for data loading"
      ],
      "metadata": {
        "id": "Nt4XNwVCExdq"
      }
    },
    {
      "cell_type": "code",
      "source": [
        "IMG_SIZE = (150, 150)\n",
        "BATCH_SIZE = 32"
      ],
      "metadata": {
        "id": "8YDhsofIDaCn"
      },
      "execution_count": 8,
      "outputs": []
    },
    {
      "cell_type": "markdown",
      "source": [
        "### Create Data Generators with Augmentation\n",
        "- Apply real-time image augmentations like rotation, zoom, and flip on training data\n",
        "- Use only rescaling for validation and test sets to avoid data leakage\n",
        "- `flow_from_directory` loads images directly from folder structure:\n",
        "  - `/PNEUMONIA`, `/NORMAL` as subfolders under train/val/test"
      ],
      "metadata": {
        "id": "TR2G8rndE0ib"
      }
    },
    {
      "cell_type": "code",
      "source": [
        "train_datagen = ImageDataGenerator(\n",
        "    rescale=1./255,\n",
        "    rotation_range=15,\n",
        "    zoom_range=0.2,\n",
        "    horizontal_flip=True\n",
        ")\n",
        "val_datagen = ImageDataGenerator(rescale=1./255)\n",
        "test_datagen = ImageDataGenerator(rescale=1./255)"
      ],
      "metadata": {
        "id": "eutXHYvRDcT4"
      },
      "execution_count": 9,
      "outputs": []
    },
    {
      "cell_type": "code",
      "source": [
        "train_data = train_datagen.flow_from_directory(\n",
        "    train_path,\n",
        "    target_size=IMG_SIZE,\n",
        "    batch_size=BATCH_SIZE,\n",
        "    class_mode='binary'\n",
        ")\n",
        "\n",
        "val_data = val_datagen.flow_from_directory(\n",
        "    val_path,\n",
        "    target_size=IMG_SIZE,\n",
        "    batch_size=BATCH_SIZE,\n",
        "    class_mode='binary'\n",
        ")"
      ],
      "metadata": {
        "colab": {
          "base_uri": "https://localhost:8080/"
        },
        "id": "6f_90TEWDdzd",
        "outputId": "1d3dff21-be44-4c7a-e967-3bf515f8315d"
      },
      "execution_count": 10,
      "outputs": [
        {
          "output_type": "stream",
          "name": "stdout",
          "text": [
            "Found 5216 images belonging to 2 classes.\n",
            "Found 16 images belonging to 2 classes.\n"
          ]
        }
      ]
    },
    {
      "cell_type": "markdown",
      "source": [
        "### Compute Class Weights\n",
        "- Use `compute_class_weight()` to address imbalance in training data\n",
        "- Pneumonia images usually outnumber Normal, so this helps balance learning\n"
      ],
      "metadata": {
        "id": "omkiEG8sE3Qz"
      }
    },
    {
      "cell_type": "code",
      "source": [
        "### Compute Class Weights to Handle Imbalance\n",
        "classes = train_data.classes\n",
        "class_weights = compute_class_weight(\n",
        "    class_weight='balanced',\n",
        "    classes=np.unique(classes),\n",
        "    y=classes\n",
        ")"
      ],
      "metadata": {
        "id": "uHgDIS-tDiY8"
      },
      "execution_count": 11,
      "outputs": []
    },
    {
      "cell_type": "code",
      "source": [
        "class_weights_dict = dict(enumerate(class_weights))\n",
        "print(\"Class weights:\", class_weights_dict)"
      ],
      "metadata": {
        "colab": {
          "base_uri": "https://localhost:8080/"
        },
        "id": "V_DVYLTXDv-L",
        "outputId": "66d84f8e-296f-43a3-d30a-a192a66372e8"
      },
      "execution_count": 12,
      "outputs": [
        {
          "output_type": "stream",
          "name": "stdout",
          "text": [
            "Class weights: {0: np.float64(1.9448173005219984), 1: np.float64(0.6730322580645162)}\n"
          ]
        }
      ]
    },
    {
      "cell_type": "markdown",
      "source": [
        "### Define the Simple CNN Architecture\n",
        "- Three convolutional blocks (Conv2D + ReLU + MaxPool)\n",
        "- Flattening layer followed by Dense layers\n",
        "- Final output layer with 1 unit and sigmoid activation for binary output\n"
      ],
      "metadata": {
        "id": "lEgJw0vpE4_5"
      }
    },
    {
      "cell_type": "code",
      "source": [
        "model = Sequential([\n",
        "    Conv2D(32, (3, 3), activation='relu', input_shape=(*IMG_SIZE, 3)),\n",
        "    MaxPooling2D(2, 2),\n",
        "\n",
        "    Conv2D(64, (3, 3), activation='relu'),\n",
        "    MaxPooling2D(2, 2),\n",
        "\n",
        "    Conv2D(128, (3, 3), activation='relu'),\n",
        "    MaxPooling2D(2, 2),\n",
        "\n",
        "    Flatten(),\n",
        "    Dense(128, activation='relu'),\n",
        "    Dropout(0.5),\n",
        "    Dense(1, activation='sigmoid')  # Binary classification\n",
        "])"
      ],
      "metadata": {
        "colab": {
          "base_uri": "https://localhost:8080/"
        },
        "id": "ZatExVavEOn9",
        "outputId": "55c643c8-b9d1-469f-8b41-e6365915438b"
      },
      "execution_count": 13,
      "outputs": [
        {
          "output_type": "stream",
          "name": "stderr",
          "text": [
            "/usr/local/lib/python3.11/dist-packages/keras/src/layers/convolutional/base_conv.py:107: UserWarning: Do not pass an `input_shape`/`input_dim` argument to a layer. When using Sequential models, prefer using an `Input(shape)` object as the first layer in the model instead.\n",
            "  super().__init__(activity_regularizer=activity_regularizer, **kwargs)\n"
          ]
        }
      ]
    },
    {
      "cell_type": "markdown",
      "source": [
        "### Compile the Model\n",
        "- Loss: `binary_crossentropy` for binary classification\n",
        "- Optimizer: `adam` for adaptive learning\n",
        "- Metric: Accuracy"
      ],
      "metadata": {
        "id": "eAkWQZaBE8XH"
      }
    },
    {
      "cell_type": "code",
      "source": [
        "model.compile(\n",
        "    loss='binary_crossentropy',\n",
        "    optimizer='adam',\n",
        "    metrics=['accuracy']\n",
        ")"
      ],
      "metadata": {
        "id": "oVuHN6d_ERY9"
      },
      "execution_count": 14,
      "outputs": []
    },
    {
      "cell_type": "markdown",
      "source": [
        "### Train the Model with Class Weights\n",
        "- Pass `class_weight` during training to correct imbalance\n",
        "- Validate on clean, unaugmented validation data"
      ],
      "metadata": {
        "id": "Xd8I_ed3E-uN"
      }
    },
    {
      "cell_type": "code",
      "source": [
        "history = model.fit(\n",
        "    train_data,\n",
        "    validation_data=val_data,\n",
        "    epochs=5,\n",
        "    class_weight=class_weights_dict\n",
        ")"
      ],
      "metadata": {
        "colab": {
          "base_uri": "https://localhost:8080/"
        },
        "id": "bVEhVjOFETch",
        "outputId": "fdf9e0b4-c9b7-4d1f-a26c-5c34b33a4240"
      },
      "execution_count": 15,
      "outputs": [
        {
          "output_type": "stream",
          "name": "stderr",
          "text": [
            "/usr/local/lib/python3.11/dist-packages/keras/src/trainers/data_adapters/py_dataset_adapter.py:121: UserWarning: Your `PyDataset` class should call `super().__init__(**kwargs)` in its constructor. `**kwargs` can include `workers`, `use_multiprocessing`, `max_queue_size`. Do not pass these arguments to `fit()`, as they will be ignored.\n",
            "  self._warn_if_super_not_called()\n"
          ]
        },
        {
          "output_type": "stream",
          "name": "stdout",
          "text": [
            "Epoch 1/5\n",
            "\u001b[1m163/163\u001b[0m \u001b[32m━━━━━━━━━━━━━━━━━━━━\u001b[0m\u001b[37m\u001b[0m \u001b[1m80s\u001b[0m 447ms/step - accuracy: 0.5784 - loss: 0.6616 - val_accuracy: 0.6875 - val_loss: 0.9869\n",
            "Epoch 2/5\n",
            "\u001b[1m163/163\u001b[0m \u001b[32m━━━━━━━━━━━━━━━━━━━━\u001b[0m\u001b[37m\u001b[0m \u001b[1m74s\u001b[0m 453ms/step - accuracy: 0.8738 - loss: 0.3228 - val_accuracy: 0.8125 - val_loss: 0.4897\n",
            "Epoch 3/5\n",
            "\u001b[1m163/163\u001b[0m \u001b[32m━━━━━━━━━━━━━━━━━━━━\u001b[0m\u001b[37m\u001b[0m \u001b[1m72s\u001b[0m 443ms/step - accuracy: 0.8908 - loss: 0.2758 - val_accuracy: 0.8125 - val_loss: 0.3692\n",
            "Epoch 4/5\n",
            "\u001b[1m163/163\u001b[0m \u001b[32m━━━━━━━━━━━━━━━━━━━━\u001b[0m\u001b[37m\u001b[0m \u001b[1m82s\u001b[0m 443ms/step - accuracy: 0.8927 - loss: 0.2706 - val_accuracy: 0.8750 - val_loss: 0.3786\n",
            "Epoch 5/5\n",
            "\u001b[1m163/163\u001b[0m \u001b[32m━━━━━━━━━━━━━━━━━━━━\u001b[0m\u001b[37m\u001b[0m \u001b[1m70s\u001b[0m 430ms/step - accuracy: 0.9110 - loss: 0.2365 - val_accuracy: 0.6875 - val_loss: 0.9079\n"
          ]
        }
      ]
    },
    {
      "cell_type": "markdown",
      "source": [
        "### Evaluate on the Test Set\n",
        "- Check accuracy on unseen test data\n",
        "- Keep shuffle=False to align predictions with actual labels"
      ],
      "metadata": {
        "id": "FaR3zcrtFBCf"
      }
    },
    {
      "cell_type": "code",
      "source": [
        "loss, acc = model.evaluate(val_data)\n",
        "print(f\"Test Accuracy: {acc:.4f}\")"
      ],
      "metadata": {
        "colab": {
          "base_uri": "https://localhost:8080/"
        },
        "id": "bbcmliC1EUmx",
        "outputId": "c2a5c5d6-6f05-4ec6-d6f7-1e078e22cbe7"
      },
      "execution_count": 16,
      "outputs": [
        {
          "output_type": "stream",
          "name": "stdout",
          "text": [
            "\u001b[1m1/1\u001b[0m \u001b[32m━━━━━━━━━━━━━━━━━━━━\u001b[0m\u001b[37m\u001b[0m \u001b[1m0s\u001b[0m 157ms/step - accuracy: 0.6875 - loss: 0.9079\n",
            "Test Accuracy: 0.6875\n"
          ]
        }
      ]
    },
    {
      "cell_type": "markdown",
      "source": [
        "### Predict and Visualize Results\n",
        "- Convert sigmoid output to binary predictions with threshold 0.5\n",
        "- Use confusion matrix to visualize true vs predicted class distribution\n"
      ],
      "metadata": {
        "id": "H619b0g8FNR2"
      }
    },
    {
      "cell_type": "code",
      "source": [
        "y_pred = model.predict(val_data) > 0.5\n",
        "y_true = val_data.classes"
      ],
      "metadata": {
        "colab": {
          "base_uri": "https://localhost:8080/"
        },
        "id": "rLT4g1uIEWZq",
        "outputId": "dc64007c-6a62-426f-c347-066fd1239e57"
      },
      "execution_count": 17,
      "outputs": [
        {
          "output_type": "stream",
          "name": "stdout",
          "text": [
            "\u001b[1m1/1\u001b[0m \u001b[32m━━━━━━━━━━━━━━━━━━━━\u001b[0m\u001b[37m\u001b[0m \u001b[1m0s\u001b[0m 443ms/step\n"
          ]
        }
      ]
    },
    {
      "cell_type": "code",
      "source": [
        "cm = confusion_matrix(y_true, y_pred)\n",
        "sns.heatmap(cm, annot=True, fmt=\"d\", cmap=\"Blues\", xticklabels=val_data.class_indices, yticklabels=val_data.class_indices)\n",
        "plt.xlabel(\"Predicted\")\n",
        "plt.ylabel(\"Actual\")\n",
        "plt.title(\"Confusion Matrix\")\n",
        "plt.show()"
      ],
      "metadata": {
        "colab": {
          "base_uri": "https://localhost:8080/",
          "height": 472
        },
        "id": "6frOUFsuEiKD",
        "outputId": "91b75b07-f38e-4bb4-e9b8-ef3e9ce5b164"
      },
      "execution_count": 18,
      "outputs": [
        {
          "output_type": "display_data",
          "data": {
            "text/plain": [
              "<Figure size 640x480 with 2 Axes>"
            ],
            "image/png": "[encoded data removed]"
          },
          "metadata": {}
        }
      ]
    },
    {
      "cell_type": "markdown",
      "source": [
        "### Generate Classification Report\n",
        "- Show precision, recall, F1-score for each class\n",
        "- Helps identify performance bias between pneumonia and normal categories"
      ],
      "metadata": {
        "id": "oOiEdbX-FPk-"
      }
    },
    {
      "cell_type": "code",
      "source": [
        "print(classification_report(y_true, y_pred, target_names=val_data.class_indices.keys()))"
      ],
      "metadata": {
        "colab": {
          "base_uri": "https://localhost:8080/"
        },
        "id": "w2tBfiHCEki2",
        "outputId": "e8736283-4d15-43d2-cf1e-f69826d379e2"
      },
      "execution_count": 20,
      "outputs": [
        {
          "output_type": "stream",
          "name": "stdout",
          "text": [
            "              precision    recall  f1-score   support\n",
            "\n",
            "      NORMAL       0.33      0.12      0.18         8\n",
            "   PNEUMONIA       0.46      0.75      0.57         8\n",
            "\n",
            "    accuracy                           0.44        16\n",
            "   macro avg       0.40      0.44      0.38        16\n",
            "weighted avg       0.40      0.44      0.38        16\n",
            "\n"
          ]
        }
      ]
    }
  ]
}