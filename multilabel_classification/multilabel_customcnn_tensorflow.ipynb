{
  "cells": [
    {
      "cell_type": "markdown",
      "metadata": {
        "id": "jZMWYFdowkpS"
      },
      "source": [
        "# Multi-label Image Classification using Custom CNN (TensorFlow/Keras)\n",
        "\n",
        "* Custom CNN using a small subset of real data\n",
        "* Simulates **multi-labels** by combining original labels with a synthetic third label\n",
        "* Dataset used: `Cats vs Dogs (Keras)`\n",
        "* Activation: `Sigmoid` for multi-label\n",
        "* Loss: `Binary Crossentropy`\n",
        "* Output: `3-label prediction` → \\[dog, cat, indoor]"
      ]
    },
    {
      "cell_type": "code",
      "execution_count": 1,
      "metadata": {
        "id": "7c6fwiuRudHV"
      },
      "outputs": [],
      "source": [
        "!pip install tensorflow keras --quiet"
      ]
    },
    {
      "cell_type": "markdown",
      "metadata": {
        "id": "7DgvIqpTwncv"
      },
      "source": [
        "### Import Required Libraries\n",
        "\n",
        "We start by importing TensorFlow, NumPy, and supporting libraries for data preprocessing, model building, and evaluation."
      ]
    },
    {
      "cell_type": "code",
      "execution_count": 2,
      "metadata": {
        "id": "dPzL6_bAukgQ"
      },
      "outputs": [],
      "source": [
        "import tensorflow as tf\n",
        "from tensorflow.keras import layers, models\n",
        "import numpy as np\n",
        "import matplotlib.pyplot as plt\n",
        "from sklearn.metrics import classification_report, multilabel_confusion_matrix\n",
        "import os\n",
        "import zipfile\n",
        "import random"
      ]
    },
    {
      "cell_type": "code",
      "execution_count": 3,
      "metadata": {
        "id": "8cyXuMoLdIkG"
      },
      "outputs": [],
      "source": [
        "image_size = (128, 128)\n",
        "batch_size = 32"
      ]
    },
    {
      "cell_type": "markdown",
      "source": [
        "### Download and Load Small Real Dataset\n",
        "\n",
        "We use the **`cats_and_dogs_filtered`** dataset provided by TensorFlow.\n",
        "\n",
        "* It contains \\~1000 training images: ideal for lightweight experimentation\n",
        "* We load the dataset using `image_dataset_from_directory`"
      ],
      "metadata": {
        "id": "gTNc50d0Bt3X"
      }
    },
    {
      "cell_type": "code",
      "source": [
        "url = \"https://storage.googleapis.com/mledu-datasets/cats_and_dogs_filtered.zip\"\n",
        "path_to_zip = tf.keras.utils.get_file(\"cats_and_dogs_filtered.zip\", origin=url, extract=True)"
      ],
      "metadata": {
        "colab": {
          "base_uri": "https://localhost:8080/"
        },
        "id": "Ehby2ujs-_Lb",
        "outputId": "f35ae127-20b2-400d-b257-5c8c7b2b746d"
      },
      "execution_count": 4,
      "outputs": [
        {
          "output_type": "stream",
          "name": "stdout",
          "text": [
            "Downloading data from https://storage.googleapis.com/mledu-datasets/cats_and_dogs_filtered.zip\n",
            "\u001b[1m68606236/68606236\u001b[0m \u001b[32m━━━━━━━━━━━━━━━━━━━━\u001b[0m\u001b[37m\u001b[0m \u001b[1m0s\u001b[0m 0us/step\n"
          ]
        }
      ]
    },
    {
      "cell_type": "code",
      "source": [
        "import shutil\n",
        "\n",
        "shutil.move(path_to_zip, \"/content\")"
      ],
      "metadata": {
        "colab": {
          "base_uri": "https://localhost:8080/",
          "height": 35
        },
        "id": "uJWOumb1_r0C",
        "outputId": "87c06185-b9da-47ce-84d4-521c3fa68d35"
      },
      "execution_count": 9,
      "outputs": [
        {
          "output_type": "execute_result",
          "data": {
            "text/plain": [
              "'/content/cats_and_dogs_filtered_extracted'"
            ],
            "application/vnd.google.colaboratory.intrinsic+json": {
              "type": "string"
            }
          },
          "metadata": {},
          "execution_count": 9
        }
      ]
    },
    {
      "cell_type": "code",
      "source": [
        "train_ds = tf.keras.preprocessing.image_dataset_from_directory(\n",
        "    \"/content/cats_and_dogs_filtered_extracted/cats_and_dogs_filtered/train\",\n",
        "    image_size=image_size,\n",
        "    batch_size=batch_size,\n",
        "    shuffle=True\n",
        ")"
      ],
      "metadata": {
        "colab": {
          "base_uri": "https://localhost:8080/"
        },
        "id": "fSzFYEoi_FME",
        "outputId": "7d9fb738-4042-4f8e-df83-1cd13b9b66c4"
      },
      "execution_count": 10,
      "outputs": [
        {
          "output_type": "stream",
          "name": "stdout",
          "text": [
            "Found 2000 files belonging to 2 classes.\n"
          ]
        }
      ]
    },
    {
      "cell_type": "code",
      "source": [
        "for image_batch, label_batch in train_ds.take(1):\n",
        "    img = image_batch\n",
        "    label = label_batch\n",
        "\n",
        "print(f\"Shape of image batch: {img.shape}\")\n",
        "print(f\"Shape of label batch: {label.shape}\")\n",
        "\n",
        "print(f\"Label batch: {label}\")"
      ],
      "metadata": {
        "colab": {
          "base_uri": "https://localhost:8080/"
        },
        "id": "sH0XKR8lB_B0",
        "outputId": "a7940b3b-4f7d-41b3-899c-ca579945ba48"
      },
      "execution_count": 29,
      "outputs": [
        {
          "output_type": "stream",
          "name": "stdout",
          "text": [
            "Shape of image batch: (32, 128, 128, 3)\n",
            "Shape of label batch: (32,)\n",
            "Label batch: [0 0 1 1 1 1 0 1 1 1 1 1 0 0 1 0 0 1 0 1 1 1 0 0 0 1 0 0 0 1 1 1]\n"
          ]
        }
      ]
    },
    {
      "cell_type": "markdown",
      "source": [
        "### Simulate Multi-label Targets\n",
        "\n",
        "Since the dataset is **not multi-label by default**, we simulate it:\n",
        "\n",
        "* Use `dog` and `cat` as the first two labels\n",
        "* Add a third synthetic label: `\"indoor\"`\n",
        "\n",
        "  * Randomly assigned (0 or 1) per image\n",
        "  * Simulates a real-world scenario (e.g., dog AND indoor)\n",
        "\n",
        "This results in labels like:\n",
        "\n",
        "```python\n",
        "[1, 0, 1] → dog, not cat, indoor  \n",
        "[0, 1, 0] → not dog, cat, not indoor\n",
        "```\n"
      ],
      "metadata": {
        "id": "O7pAFZfBByWJ"
      }
    },
    {
      "cell_type": "code",
      "source": [
        "label_map = {'dogs': [1, 0, 0], 'cats': [0, 1, 0]}\n",
        "\n",
        "def add_random_label(base_label):\n",
        "    new_label = base_label.copy()\n",
        "    # Simulate an environmental tag: 50% chance to assign 'indoor' class\n",
        "    new_label[2] = random.choice([0, 1])\n",
        "    return new_label"
      ],
      "metadata": {
        "id": "MRx2PR35_HHt"
      },
      "execution_count": 11,
      "outputs": []
    },
    {
      "cell_type": "markdown",
      "source": [
        "### Preprocess Image Data\n",
        "\n",
        "* Normalize pixel values by dividing by 255\n",
        "* Prepare `X` and `y` arrays\n",
        "* Use `train_test_split` from scikit-learn for train-test division"
      ],
      "metadata": {
        "id": "I2qTlxz3CfjY"
      }
    },
    {
      "cell_type": "code",
      "source": [
        "X = []\n",
        "y = []\n",
        "\n",
        "for batch in train_ds.take(10):  # Take ~10 batches = 320 images max\n",
        "    images, labels = batch\n",
        "    for i in range(len(images)):\n",
        "        img = images[i].numpy()\n",
        "        label_index = int(labels[i].numpy())\n",
        "        label_name = 'dogs' if label_index == 1 else 'cats'\n",
        "        multilabel = add_random_label(label_map[label_name])\n",
        "        X.append(img / 255.0)\n",
        "        y.append(multilabel)"
      ],
      "metadata": {
        "id": "ORMuBbsdAuTx"
      },
      "execution_count": 12,
      "outputs": []
    },
    {
      "cell_type": "code",
      "source": [
        "y[0]"
      ],
      "metadata": {
        "colab": {
          "base_uri": "https://localhost:8080/"
        },
        "id": "YsQe9V4GCRUB",
        "outputId": "cd32113e-35d0-4142-d610-6a2bce6f307c"
      },
      "execution_count": 31,
      "outputs": [
        {
          "output_type": "execute_result",
          "data": {
            "text/plain": [
              "array([1., 0., 1.], dtype=float32)"
            ]
          },
          "metadata": {},
          "execution_count": 31
        }
      ]
    },
    {
      "cell_type": "code",
      "source": [
        "X = np.array(X)\n",
        "y = np.array(y).astype('float32')"
      ],
      "metadata": {
        "id": "IEtYX2SHAwd5"
      },
      "execution_count": 13,
      "outputs": []
    },
    {
      "cell_type": "code",
      "source": [
        "from sklearn.model_selection import train_test_split\n",
        "X_train, X_test, y_train, y_test = train_test_split(X, y, test_size=0.2, random_state=42)"
      ],
      "metadata": {
        "id": "620u8WnrAyQ8"
      },
      "execution_count": 14,
      "outputs": []
    },
    {
      "cell_type": "markdown",
      "source": [
        "### Define the Custom CNN Model\n",
        "\n",
        "Build a **simple CNN** architecture:\n",
        "\n",
        "* Two convolutional + pooling layers\n",
        "* Dense layer + output layer with **sigmoid** activation\n",
        "* Output shape: `(batch_size, 3)` → for 3 labels\n",
        "* Sigmoid ensures each output is treated independently"
      ],
      "metadata": {
        "id": "A-NBIwXiCiv8"
      }
    },
    {
      "cell_type": "code",
      "source": [
        "def create_model(input_shape=(128, 128, 3), num_classes=3):\n",
        "    model = models.Sequential([\n",
        "        layers.Conv2D(32, (3,3), activation='relu', input_shape=input_shape),\n",
        "        layers.MaxPooling2D(2,2),\n",
        "        layers.Conv2D(64, (3,3), activation='relu'),\n",
        "        layers.MaxPooling2D(2,2),\n",
        "        layers.Flatten(),\n",
        "        layers.Dense(128, activation='relu'),\n",
        "        layers.Dense(num_classes, activation='sigmoid')  # Multi-label → sigmoid\n",
        "    ])\n",
        "    return model\n",
        "\n",
        "model = create_model()"
      ],
      "metadata": {
        "colab": {
          "base_uri": "https://localhost:8080/"
        },
        "id": "FjPXUmObAzqP",
        "outputId": "7d3085f2-9017-4d84-fa1d-c5705c03552e"
      },
      "execution_count": 15,
      "outputs": [
        {
          "output_type": "stream",
          "name": "stderr",
          "text": [
            "/usr/local/lib/python3.11/dist-packages/keras/src/layers/convolutional/base_conv.py:107: UserWarning: Do not pass an `input_shape`/`input_dim` argument to a layer. When using Sequential models, prefer using an `Input(shape)` object as the first layer in the model instead.\n",
            "  super().__init__(activity_regularizer=activity_regularizer, **kwargs)\n"
          ]
        }
      ]
    },
    {
      "cell_type": "markdown",
      "source": [
        "### Compile the Model\n",
        "\n",
        "* **Loss**: `binary_crossentropy`\n",
        "* **Optimizer**: `adam`\n",
        "* **Metric**: accuracy (can be misleading for multi-label but still indicative)"
      ],
      "metadata": {
        "id": "Vp5oDKisCmTg"
      }
    },
    {
      "cell_type": "code",
      "source": [
        "model.compile(optimizer='adam',\n",
        "              loss='binary_crossentropy',\n",
        "              metrics=['accuracy'])"
      ],
      "metadata": {
        "id": "nphYg8IdA1NF"
      },
      "execution_count": 16,
      "outputs": []
    },
    {
      "cell_type": "markdown",
      "source": [
        "### Train the Model\n",
        "\n",
        "* Train for a small number of epochs (e.g., 5)\n",
        "* Use a validation split (e.g., 10%)\n",
        "* Keep the batch size moderate (e.g., 32)"
      ],
      "metadata": {
        "id": "LcS06Y_RCnzG"
      }
    },
    {
      "cell_type": "code",
      "source": [
        "history = model.fit(X_train, y_train, epochs=5, batch_size=32, validation_split=0.1)"
      ],
      "metadata": {
        "colab": {
          "base_uri": "https://localhost:8080/"
        },
        "id": "ULMNFrxcA27n",
        "outputId": "fc910e85-35c6-4c08-f07a-51e1e2e9a220"
      },
      "execution_count": 17,
      "outputs": [
        {
          "output_type": "stream",
          "name": "stdout",
          "text": [
            "Epoch 1/5\n",
            "\u001b[1m8/8\u001b[0m \u001b[32m━━━━━━━━━━━━━━━━━━━━\u001b[0m\u001b[37m\u001b[0m \u001b[1m8s\u001b[0m 498ms/step - accuracy: 0.3325 - loss: 1.1451 - val_accuracy: 0.4231 - val_loss: 0.7313\n",
            "Epoch 2/5\n",
            "\u001b[1m8/8\u001b[0m \u001b[32m━━━━━━━━━━━━━━━━━━━━\u001b[0m\u001b[37m\u001b[0m \u001b[1m4s\u001b[0m 27ms/step - accuracy: 0.5010 - loss: 0.6924 - val_accuracy: 0.0000e+00 - val_loss: 0.7037\n",
            "Epoch 3/5\n",
            "\u001b[1m8/8\u001b[0m \u001b[32m━━━━━━━━━━━━━━━━━━━━\u001b[0m\u001b[37m\u001b[0m \u001b[1m0s\u001b[0m 24ms/step - accuracy: 0.3253 - loss: 0.6704 - val_accuracy: 0.5385 - val_loss: 0.6814\n",
            "Epoch 4/5\n",
            "\u001b[1m8/8\u001b[0m \u001b[32m━━━━━━━━━━━━━━━━━━━━\u001b[0m\u001b[37m\u001b[0m \u001b[1m0s\u001b[0m 23ms/step - accuracy: 0.4798 - loss: 0.6311 - val_accuracy: 0.4615 - val_loss: 0.6652\n",
            "Epoch 5/5\n",
            "\u001b[1m8/8\u001b[0m \u001b[32m━━━━━━━━━━━━━━━━━━━━\u001b[0m\u001b[37m\u001b[0m \u001b[1m0s\u001b[0m 22ms/step - accuracy: 0.3765 - loss: 0.5700 - val_accuracy: 0.6154 - val_loss: 0.7087\n"
          ]
        }
      ]
    },
    {
      "cell_type": "markdown",
      "source": [
        "### Evaluate the Model\n",
        "\n",
        "Evaluate performance on test data:\n",
        "\n",
        "* Use `model.evaluate()` for quick metrics\n",
        "* Predict probabilities using `model.predict()`\n",
        "* Threshold predictions using `y_pred > 0.5` to convert to binary labels"
      ],
      "metadata": {
        "id": "qZRYxBvOCqkg"
      }
    },
    {
      "cell_type": "code",
      "source": [
        "model.evaluate(X_test, y_test)"
      ],
      "metadata": {
        "colab": {
          "base_uri": "https://localhost:8080/"
        },
        "id": "efP8hOebA40g",
        "outputId": "a4161ab0-1ae0-41ac-b169-10727e604747"
      },
      "execution_count": 18,
      "outputs": [
        {
          "output_type": "stream",
          "name": "stdout",
          "text": [
            "\u001b[1m2/2\u001b[0m \u001b[32m━━━━━━━━━━━━━━━━━━━━\u001b[0m\u001b[37m\u001b[0m \u001b[1m1s\u001b[0m 24ms/step - accuracy: 0.7083 - loss: 0.6517 \n"
          ]
        },
        {
          "output_type": "execute_result",
          "data": {
            "text/plain": [
              "[0.6634343862533569, 0.65625]"
            ]
          },
          "metadata": {},
          "execution_count": 18
        }
      ]
    },
    {
      "cell_type": "code",
      "source": [
        "y_pred = model.predict(X_test)\n",
        "y_pred_binary = (y_pred > 0.5).astype(int)"
      ],
      "metadata": {
        "colab": {
          "base_uri": "https://localhost:8080/"
        },
        "id": "hNRVcdGLA62-",
        "outputId": "f3dc8f50-021f-4472-9f65-ccefb6ef1d24"
      },
      "execution_count": 19,
      "outputs": [
        {
          "output_type": "stream",
          "name": "stdout",
          "text": [
            "\u001b[1m2/2\u001b[0m \u001b[32m━━━━━━━━━━━━━━━━━━━━\u001b[0m\u001b[37m\u001b[0m \u001b[1m0s\u001b[0m 20ms/step \n"
          ]
        }
      ]
    },
    {
      "cell_type": "code",
      "source": [
        "y_pred[0:3], y_pred_binary[0:3]"
      ],
      "metadata": {
        "colab": {
          "base_uri": "https://localhost:8080/"
        },
        "id": "ksb4hCopA9YR",
        "outputId": "473585d3-dc8b-416d-c8ce-3beb8063c6bf"
      },
      "execution_count": 22,
      "outputs": [
        {
          "output_type": "execute_result",
          "data": {
            "text/plain": [
              "(array([[0.35356063, 0.62620795, 0.27926955],\n",
              "        [0.5137683 , 0.39016345, 0.20910904],\n",
              "        [0.41531923, 0.55359495, 0.42816448]], dtype=float32),\n",
              " array([[0, 1, 0],\n",
              "        [1, 0, 0],\n",
              "        [0, 1, 0]]))"
            ]
          },
          "metadata": {},
          "execution_count": 22
        }
      ]
    },
    {
      "cell_type": "markdown",
      "source": [
        "### Analyze Results\n",
        "\n",
        "Use:\n",
        "\n",
        "* `classification_report()` to print precision, recall, and F1-score\n",
        "* `multilabel_confusion_matrix()` to inspect per-label confusion"
      ],
      "metadata": {
        "id": "Xzh3n7vcCt5s"
      }
    },
    {
      "cell_type": "code",
      "source": [
        "print(classification_report(y_test, y_pred_binary, target_names=['dog', 'cat', 'indoor']))"
      ],
      "metadata": {
        "colab": {
          "base_uri": "https://localhost:8080/"
        },
        "id": "MoSKoiY1A-p9",
        "outputId": "37b277c6-aeca-4fbc-ac85-b45000082df6"
      },
      "execution_count": 23,
      "outputs": [
        {
          "output_type": "stream",
          "name": "stdout",
          "text": [
            "              precision    recall  f1-score   support\n",
            "\n",
            "         dog       0.69      0.55      0.61        33\n",
            "         cat       0.69      0.65      0.67        31\n",
            "      indoor       0.33      0.04      0.08        23\n",
            "\n",
            "   micro avg       0.67      0.45      0.54        87\n",
            "   macro avg       0.57      0.41      0.45        87\n",
            "weighted avg       0.60      0.45      0.49        87\n",
            " samples avg       0.60      0.49      0.53        87\n",
            "\n"
          ]
        },
        {
          "output_type": "stream",
          "name": "stderr",
          "text": [
            "/usr/local/lib/python3.11/dist-packages/sklearn/metrics/_classification.py:1565: UndefinedMetricWarning: Precision is ill-defined and being set to 0.0 in samples with no predicted labels. Use `zero_division` parameter to control this behavior.\n",
            "  _warn_prf(average, modifier, f\"{metric.capitalize()} is\", len(result))\n"
          ]
        }
      ]
    },
    {
      "cell_type": "code",
      "source": [
        "conf_matrices = multilabel_confusion_matrix(y_test, y_pred_binary)\n",
        "for i, cm in enumerate(conf_matrices):\n",
        "    print(f\"\\nConfusion matrix for class {i}:\\n{cm}\")"
      ],
      "metadata": {
        "colab": {
          "base_uri": "https://localhost:8080/"
        },
        "id": "I0I3Z0u3BFhj",
        "outputId": "a6e3093d-47fb-4be2-8a9e-b7ec2df40210"
      },
      "execution_count": 24,
      "outputs": [
        {
          "output_type": "stream",
          "name": "stdout",
          "text": [
            "\n",
            "Confusion matrix for class 0:\n",
            "[[23  8]\n",
            " [15 18]]\n",
            "\n",
            "Confusion matrix for class 1:\n",
            "[[24  9]\n",
            " [11 20]]\n",
            "\n",
            "Confusion matrix for class 2:\n",
            "[[39  2]\n",
            " [22  1]]\n"
          ]
        }
      ]
    },
    {
      "cell_type": "markdown",
      "source": [
        "### If You Have GPU + Storage\n",
        "\n",
        "If you have a **powerful GPU and large storage**, you can use the **Open Images Dataset**:\n",
        "\n",
        "* It's a large-scale dataset for multi-label classification\n",
        "* Available via \\[TensorFlow Datasets (TFDS)] or direct download\n",
        "* Comes with complex, noisy, real-world multi-label annotations\n",
        "* You'll need preprocessing scripts and label parsing (TFRecord parsing or Pandas from CSVs)\n"
      ],
      "metadata": {
        "id": "arPE5yajCwsq"
      }
    }
  ],
  "metadata": {
    "accelerator": "GPU",
    "colab": {
      "gpuType": "T4",
      "provenance": []
    },
    "kernelspec": {
      "display_name": "Python 3",
      "name": "python3"
    },
    "language_info": {
      "name": "python"
    }
  },
  "nbformat": 4,
  "nbformat_minor": 0
}